{
 "cells": [
  {
   "cell_type": "code",
   "execution_count": 1,
   "metadata": {
    "scrolled": false
   },
   "outputs": [
    {
     "name": "stderr",
     "output_type": "stream",
     "text": [
      "/Users/dietererben/anaconda3/lib/python3.6/site-packages/IPython/core/interactiveshell.py:2785: DtypeWarning: Columns (7) have mixed types. Specify dtype option on import or set low_memory=False.\n",
      "  interactivity=interactivity, compiler=compiler, result=result)\n"
     ]
    }
   ],
   "source": [
    "import pandas as pd\n",
    "\n",
    "combined = pd.read_csv('clean_data.csv')"
   ]
  },
  {
   "cell_type": "code",
   "execution_count": 2,
   "metadata": {
    "scrolled": false
   },
   "outputs": [
    {
     "data": {
      "text/html": [
       "<div>\n",
       "<style scoped>\n",
       "    .dataframe tbody tr th:only-of-type {\n",
       "        vertical-align: middle;\n",
       "    }\n",
       "\n",
       "    .dataframe tbody tr th {\n",
       "        vertical-align: top;\n",
       "    }\n",
       "\n",
       "    .dataframe thead th {\n",
       "        text-align: right;\n",
       "    }\n",
       "</style>\n",
       "<table border=\"1\" class=\"dataframe\">\n",
       "  <thead>\n",
       "    <tr style=\"text-align: right;\">\n",
       "      <th></th>\n",
       "      <th>date_time</th>\n",
       "      <th>date_x</th>\n",
       "      <th>time</th>\n",
       "      <th>loc_t ype</th>\n",
       "      <th>zip_code</th>\n",
       "      <th>council_district</th>\n",
       "      <th>apd_sector</th>\n",
       "      <th>apd_district</th>\n",
       "      <th>latitude</th>\n",
       "      <th>longtitude</th>\n",
       "      <th>...</th>\n",
       "      <th>P0030006_pct</th>\n",
       "      <th>P0030007_pct</th>\n",
       "      <th>P0030008_pct</th>\n",
       "      <th>P0040003_pct</th>\n",
       "      <th>P0200002_pct</th>\n",
       "      <th>P0250002_pct</th>\n",
       "      <th>P0190007_pct</th>\n",
       "      <th>B19113_001E</th>\n",
       "      <th>B17001_001E_pct</th>\n",
       "      <th>C18120_003E_pct</th>\n",
       "    </tr>\n",
       "  </thead>\n",
       "  <tbody>\n",
       "    <tr>\n",
       "      <th>0</th>\n",
       "      <td>2014-10-01 20:19:00</td>\n",
       "      <td>10/01/2014</td>\n",
       "      <td>2019.0</td>\n",
       "      <td>RESIDENCE / HOME</td>\n",
       "      <td>78723.0</td>\n",
       "      <td>1.0</td>\n",
       "      <td>ID</td>\n",
       "      <td>1</td>\n",
       "      <td>30.315506</td>\n",
       "      <td>-97.690678</td>\n",
       "      <td>...</td>\n",
       "      <td>0.0004</td>\n",
       "      <td>0.211769</td>\n",
       "      <td>0.064652</td>\n",
       "      <td>0.529424</td>\n",
       "      <td>0.402545</td>\n",
       "      <td>0.130133</td>\n",
       "      <td>0.337189</td>\n",
       "      <td>35600.0</td>\n",
       "      <td>0.994701</td>\n",
       "      <td>0.88417</td>\n",
       "    </tr>\n",
       "    <tr>\n",
       "      <th>1</th>\n",
       "      <td>2014-10-05 16:33:00</td>\n",
       "      <td>10/05/2014</td>\n",
       "      <td>1633.0</td>\n",
       "      <td>RESIDENCE / HOME</td>\n",
       "      <td>78723.0</td>\n",
       "      <td>1.0</td>\n",
       "      <td>ID</td>\n",
       "      <td>1</td>\n",
       "      <td>30.315506</td>\n",
       "      <td>-97.690678</td>\n",
       "      <td>...</td>\n",
       "      <td>0.0004</td>\n",
       "      <td>0.211769</td>\n",
       "      <td>0.064652</td>\n",
       "      <td>0.529424</td>\n",
       "      <td>0.402545</td>\n",
       "      <td>0.130133</td>\n",
       "      <td>0.337189</td>\n",
       "      <td>35600.0</td>\n",
       "      <td>0.994701</td>\n",
       "      <td>0.88417</td>\n",
       "    </tr>\n",
       "    <tr>\n",
       "      <th>2</th>\n",
       "      <td>2012-01-20 22:30:00</td>\n",
       "      <td>01/20/2012</td>\n",
       "      <td>2230.0</td>\n",
       "      <td>PARKING LOTS / GARAGE</td>\n",
       "      <td>78723.0</td>\n",
       "      <td>1.0</td>\n",
       "      <td>ID</td>\n",
       "      <td>1</td>\n",
       "      <td>30.320667</td>\n",
       "      <td>-97.687671</td>\n",
       "      <td>...</td>\n",
       "      <td>0.0004</td>\n",
       "      <td>0.211769</td>\n",
       "      <td>0.064652</td>\n",
       "      <td>0.529424</td>\n",
       "      <td>0.402545</td>\n",
       "      <td>0.130133</td>\n",
       "      <td>0.337189</td>\n",
       "      <td>35600.0</td>\n",
       "      <td>0.994701</td>\n",
       "      <td>0.88417</td>\n",
       "    </tr>\n",
       "    <tr>\n",
       "      <th>3</th>\n",
       "      <td>2011-01-01 20:00:00</td>\n",
       "      <td>01/01/2011</td>\n",
       "      <td>2000.0</td>\n",
       "      <td>RESIDENCE / HOME</td>\n",
       "      <td>78723.0</td>\n",
       "      <td>1.0</td>\n",
       "      <td>ID</td>\n",
       "      <td>1</td>\n",
       "      <td>30.320667</td>\n",
       "      <td>-97.687671</td>\n",
       "      <td>...</td>\n",
       "      <td>0.0004</td>\n",
       "      <td>0.211769</td>\n",
       "      <td>0.064652</td>\n",
       "      <td>0.529424</td>\n",
       "      <td>0.402545</td>\n",
       "      <td>0.130133</td>\n",
       "      <td>0.337189</td>\n",
       "      <td>35600.0</td>\n",
       "      <td>0.994701</td>\n",
       "      <td>0.88417</td>\n",
       "    </tr>\n",
       "    <tr>\n",
       "      <th>4</th>\n",
       "      <td>2012-03-06 05:00:00</td>\n",
       "      <td>03/06/2012</td>\n",
       "      <td>500.0</td>\n",
       "      <td>RESIDENCE / HOME</td>\n",
       "      <td>78723.0</td>\n",
       "      <td>1.0</td>\n",
       "      <td>ID</td>\n",
       "      <td>1</td>\n",
       "      <td>30.320667</td>\n",
       "      <td>-97.687671</td>\n",
       "      <td>...</td>\n",
       "      <td>0.0004</td>\n",
       "      <td>0.211769</td>\n",
       "      <td>0.064652</td>\n",
       "      <td>0.529424</td>\n",
       "      <td>0.402545</td>\n",
       "      <td>0.130133</td>\n",
       "      <td>0.337189</td>\n",
       "      <td>35600.0</td>\n",
       "      <td>0.994701</td>\n",
       "      <td>0.88417</td>\n",
       "    </tr>\n",
       "  </tbody>\n",
       "</table>\n",
       "<p>5 rows × 102 columns</p>\n",
       "</div>"
      ],
      "text/plain": [
       "             date_time      date_x    time              loc_t ype  zip_code  \\\n",
       "0  2014-10-01 20:19:00  10/01/2014  2019.0       RESIDENCE / HOME   78723.0   \n",
       "1  2014-10-05 16:33:00  10/05/2014  1633.0       RESIDENCE / HOME   78723.0   \n",
       "2  2012-01-20 22:30:00  01/20/2012  2230.0  PARKING LOTS / GARAGE   78723.0   \n",
       "3  2011-01-01 20:00:00  01/01/2011  2000.0       RESIDENCE / HOME   78723.0   \n",
       "4  2012-03-06 05:00:00  03/06/2012   500.0       RESIDENCE / HOME   78723.0   \n",
       "\n",
       "   council_district apd_sector apd_district   latitude  longtitude  \\\n",
       "0               1.0         ID            1  30.315506  -97.690678   \n",
       "1               1.0         ID            1  30.315506  -97.690678   \n",
       "2               1.0         ID            1  30.320667  -97.687671   \n",
       "3               1.0         ID            1  30.320667  -97.687671   \n",
       "4               1.0         ID            1  30.320667  -97.687671   \n",
       "\n",
       "        ...        P0030006_pct  P0030007_pct  P0030008_pct  P0040003_pct  \\\n",
       "0       ...              0.0004      0.211769      0.064652      0.529424   \n",
       "1       ...              0.0004      0.211769      0.064652      0.529424   \n",
       "2       ...              0.0004      0.211769      0.064652      0.529424   \n",
       "3       ...              0.0004      0.211769      0.064652      0.529424   \n",
       "4       ...              0.0004      0.211769      0.064652      0.529424   \n",
       "\n",
       "   P0200002_pct  P0250002_pct  P0190007_pct  B19113_001E  B17001_001E_pct  \\\n",
       "0      0.402545      0.130133      0.337189      35600.0         0.994701   \n",
       "1      0.402545      0.130133      0.337189      35600.0         0.994701   \n",
       "2      0.402545      0.130133      0.337189      35600.0         0.994701   \n",
       "3      0.402545      0.130133      0.337189      35600.0         0.994701   \n",
       "4      0.402545      0.130133      0.337189      35600.0         0.994701   \n",
       "\n",
       "   C18120_003E_pct  \n",
       "0          0.88417  \n",
       "1          0.88417  \n",
       "2          0.88417  \n",
       "3          0.88417  \n",
       "4          0.88417  \n",
       "\n",
       "[5 rows x 102 columns]"
      ]
     },
     "execution_count": 2,
     "metadata": {},
     "output_type": "execute_result"
    }
   ],
   "source": [
    "combined.head()"
   ]
  },
  {
   "cell_type": "code",
   "execution_count": 3,
   "metadata": {},
   "outputs": [
    {
     "data": {
      "text/plain": [
       "['date_time',\n",
       " 'date_x',\n",
       " 'time',\n",
       " 'loc_t ype',\n",
       " 'zip_code',\n",
       " 'council_district',\n",
       " 'apd_sector',\n",
       " 'apd_district',\n",
       " 'latitude',\n",
       " 'longtitude',\n",
       " 'location',\n",
       " 'year',\n",
       " 'Target1',\n",
       " 'Target2',\n",
       " 'temp_max',\n",
       " 'temp_avg',\n",
       " 'temp_min',\n",
       " 'dew_max',\n",
       " 'dew_avg',\n",
       " 'dew_min',\n",
       " 'hum_max',\n",
       " 'hum_min',\n",
       " 'wind_max',\n",
       " 'wind_min',\n",
       " 'pres_max',\n",
       " 'pres_min',\n",
       " 'prec_avg',\n",
       " 'Holiday',\n",
       " 'new_year',\n",
       " 'mlk_day',\n",
       " 'wash_bday',\n",
       " 'mem_day',\n",
       " 'ind_day',\n",
       " 'labor_day',\n",
       " 'col_day',\n",
       " 'vet_day',\n",
       " 'thanksgiving',\n",
       " 'christmas',\n",
       " 'month',\n",
       " 'day_of_week',\n",
       " 'hour_of_day',\n",
       " 'month1',\n",
       " 'month2',\n",
       " 'month3',\n",
       " 'month4',\n",
       " 'month5',\n",
       " 'month6',\n",
       " 'month7',\n",
       " 'month8',\n",
       " 'month9',\n",
       " 'month10',\n",
       " 'month11',\n",
       " 'month12',\n",
       " 'day0',\n",
       " 'day1',\n",
       " 'day2',\n",
       " 'day3',\n",
       " 'day4',\n",
       " 'day5',\n",
       " 'day6',\n",
       " 'hour0',\n",
       " 'hour1',\n",
       " 'hour2',\n",
       " 'hour3',\n",
       " 'hour4',\n",
       " 'hour5',\n",
       " 'hour6',\n",
       " 'hour7',\n",
       " 'hour8',\n",
       " 'hour9',\n",
       " 'hour10',\n",
       " 'hour11',\n",
       " 'hour12',\n",
       " 'hour13',\n",
       " 'hour14',\n",
       " 'hour15',\n",
       " 'hour16',\n",
       " 'hour17',\n",
       " 'hour18',\n",
       " 'hour19',\n",
       " 'hour20',\n",
       " 'hour21',\n",
       " 'hour22',\n",
       " 'hour23',\n",
       " 'tract',\n",
       " 'P0130001',\n",
       " 'P0130002',\n",
       " 'P0130003',\n",
       " 'P0030002_pct',\n",
       " 'P0030003_pct',\n",
       " 'P0030004_pct',\n",
       " 'P0030005_pct',\n",
       " 'P0030006_pct',\n",
       " 'P0030007_pct',\n",
       " 'P0030008_pct',\n",
       " 'P0040003_pct',\n",
       " 'P0200002_pct',\n",
       " 'P0250002_pct',\n",
       " 'P0190007_pct',\n",
       " 'B19113_001E',\n",
       " 'B17001_001E_pct',\n",
       " 'C18120_003E_pct']"
      ]
     },
     "execution_count": 3,
     "metadata": {},
     "output_type": "execute_result"
    }
   ],
   "source": [
    "list(combined)"
   ]
  },
  {
   "cell_type": "code",
   "execution_count": 4,
   "metadata": {},
   "outputs": [],
   "source": [
    "income = combined[['B19113_001E','Target1']]\n",
    "income = income.dropna()\n",
    "income_no = income[income['Target1'] == 0]\n",
    "income_no = income_no['B19113_001E']\n",
    "income_yes = income[income['Target1'] == 1]\n",
    "income_yes = income_yes['B19113_001E']"
   ]
  },
  {
   "cell_type": "code",
   "execution_count": 5,
   "metadata": {},
   "outputs": [
    {
     "data": {
      "text/plain": [
       "<Figure size 640x480 with 1 Axes>"
      ]
     },
     "metadata": {},
     "output_type": "display_data"
    }
   ],
   "source": [
    "import matplotlib.pyplot as plt\n",
    "\n",
    "plt.hist(income_no, 20)\n",
    "plt.hist(income_yes, 20)\n",
    "\n",
    "plt.xlabel('Median Income')\n",
    "plt.ylabel('Frequency')\n",
    "plt.title('Income Distribution: Resistance vs. No Resistance')\n",
    "plt.grid(True)\n",
    "\n",
    "plt.show()"
   ]
  },
  {
   "cell_type": "code",
   "execution_count": 6,
   "metadata": {},
   "outputs": [
    {
     "data": {
      "image/png": "[encoded data removed]",
      "text/plain": [
       "<Figure size 432x288 with 1 Axes>"
      ]
     },
     "metadata": {},
     "output_type": "display_data"
    }
   ],
   "source": [
    "plt.hist(income_no, 20)\n",
    "\n",
    "plt.xlabel('Median Income')\n",
    "plt.ylabel('Frequency')\n",
    "plt.title('Income Distribution: No Resistance')\n",
    "plt.grid(True)\n",
    "\n",
    "plt.show()"
   ]
  },
  {
   "cell_type": "code",
   "execution_count": 7,
   "metadata": {
    "scrolled": true
   },
   "outputs": [
    {
     "data": {
      "image/png": "[encoded data removed]",
      "text/plain": [
       "<Figure size 432x288 with 1 Axes>"
      ]
     },
     "metadata": {},
     "output_type": "display_data"
    }
   ],
   "source": [
    "plt.hist(income_yes, 20,facecolor='orange')\n",
    "\n",
    "plt.xlabel('Median Income')\n",
    "plt.ylabel('Frequency')\n",
    "plt.title('Income Distribution: Resistance')\n",
    "plt.grid(True)\n",
    "\n",
    "plt.show()"
   ]
  },
  {
   "cell_type": "code",
   "execution_count": 8,
   "metadata": {},
   "outputs": [],
   "source": [
    "week = combined[['day_of_week','Target1']]\n",
    "week = week.dropna()\n",
    "week_no = week[week['Target1'] == 0]\n",
    "week_no = week_no['day_of_week']\n",
    "week_yes = week[week['Target1'] == 1]\n",
    "week_yes = week_yes['day_of_week']"
   ]
  },
  {
   "cell_type": "code",
   "execution_count": 9,
   "metadata": {},
   "outputs": [
    {
     "data": {
      "image/png": "[encoded data removed]",
      "text/plain": [
       "<Figure size 432x288 with 1 Axes>"
      ]
     },
     "metadata": {},
     "output_type": "display_data"
    }
   ],
   "source": [
    "plt.hist(week_no, 7)\n",
    "plt.hist(week_yes, 7)\n",
    "\n",
    "plt.xlabel('Day of Week')\n",
    "plt.ylabel('Frequency')\n",
    "plt.title('Day of Week: Resistance vs. No Resistance')\n",
    "plt.grid(True)\n",
    "\n",
    "plt.show()"
   ]
  },
  {
   "cell_type": "code",
   "execution_count": 10,
   "metadata": {
    "scrolled": true
   },
   "outputs": [
    {
     "data": {
      "image/png": "[encoded data removed]",
      "text/plain": [
       "<Figure size 432x288 with 1 Axes>"
      ]
     },
     "metadata": {},
     "output_type": "display_data"
    }
   ],
   "source": [
    "plt.hist(week_no, 7)\n",
    "\n",
    "plt.xlabel('Day of Week')\n",
    "plt.ylabel('Frequency')\n",
    "plt.title('Day of Week: No Resistance')\n",
    "plt.grid(True)\n",
    "\n",
    "plt.show()"
   ]
  },
  {
   "cell_type": "code",
   "execution_count": 11,
   "metadata": {
    "scrolled": false
   },
   "outputs": [
    {
     "data": {
      "image/png": "[encoded data removed]",
      "text/plain": [
       "<Figure size 432x288 with 1 Axes>"
      ]
     },
     "metadata": {},
     "output_type": "display_data"
    }
   ],
   "source": [
    "plt.hist(week_yes, 7,facecolor='orange')\n",
    "\n",
    "plt.xlabel('Day of Week')\n",
    "plt.ylabel('Frequency')\n",
    "plt.title('Day of Week: Resistance')\n",
    "plt.grid(True)\n",
    "\n",
    "plt.show()"
   ]
  },
  {
   "cell_type": "code",
   "execution_count": 12,
   "metadata": {},
   "outputs": [],
   "source": [
    "month = combined[['month','Target1']]\n",
    "month = month.dropna()\n",
    "month_no = month[month['Target1'] == 0]\n",
    "month_no = month_no['month']\n",
    "month_yes = month[month['Target1'] == 1]\n",
    "month_yes = month_yes['month']"
   ]
  },
  {
   "cell_type": "code",
   "execution_count": 13,
   "metadata": {},
   "outputs": [
    {
     "data": {
      "image/png": "[encoded data removed]",
      "text/plain": [
       "<Figure size 432x288 with 1 Axes>"
      ]
     },
     "metadata": {},
     "output_type": "display_data"
    }
   ],
   "source": [
    "plt.hist(month_no, 12)\n",
    "plt.hist(month_yes, 12)\n",
    "\n",
    "plt.xlabel('Month')\n",
    "plt.ylabel('Frequency')\n",
    "plt.title('Month: Resistance vs. No Resistance')\n",
    "plt.grid(True)\n",
    "\n",
    "plt.show()"
   ]
  },
  {
   "cell_type": "code",
   "execution_count": 14,
   "metadata": {},
   "outputs": [
    {
     "data": {
      "image/png": "[encoded data removed]",
      "text/plain": [
       "<Figure size 432x288 with 1 Axes>"
      ]
     },
     "metadata": {},
     "output_type": "display_data"
    }
   ],
   "source": [
    "plt.hist(month_no, 12)\n",
    "\n",
    "plt.xlabel('Month')\n",
    "plt.ylabel('Frequency')\n",
    "plt.title('Month: No Resistance')\n",
    "plt.grid(True)\n",
    "\n",
    "plt.show()"
   ]
  },
  {
   "cell_type": "code",
   "execution_count": 15,
   "metadata": {},
   "outputs": [
    {
     "data": {
      "image/png": "[encoded data removed]",
      "text/plain": [
       "<Figure size 432x288 with 1 Axes>"
      ]
     },
     "metadata": {},
     "output_type": "display_data"
    }
   ],
   "source": [
    "plt.hist(month_no, 12, facecolor='orange')\n",
    "\n",
    "plt.xlabel('Month')\n",
    "plt.ylabel('Frequency')\n",
    "plt.title('Month: Resistance')\n",
    "plt.grid(True)\n",
    "\n",
    "plt.show()"
   ]
  },
  {
   "cell_type": "code",
   "execution_count": 16,
   "metadata": {},
   "outputs": [],
   "source": [
    "temp = combined[['temp_avg','Target1']]\n",
    "temp = temp.dropna()\n",
    "temp_no = temp[temp['Target1'] == 0]\n",
    "temp_no = temp_no['temp_avg']\n",
    "temp_yes = temp[temp['Target1'] == 1]\n",
    "temp_yes = temp_yes['temp_avg']"
   ]
  },
  {
   "cell_type": "code",
   "execution_count": 17,
   "metadata": {},
   "outputs": [
    {
     "data": {
      "image/png": "[encoded data removed]",
      "text/plain": [
       "<Figure size 432x288 with 1 Axes>"
      ]
     },
     "metadata": {},
     "output_type": "display_data"
    }
   ],
   "source": [
    "plt.hist(temp_no, 20)\n",
    "plt.hist(temp_yes, 20)\n",
    "\n",
    "plt.xlabel('Temperature in °F')\n",
    "plt.ylabel('Frequency')\n",
    "plt.title('Temperature: Resistance vs. No Resistance')\n",
    "plt.grid(True)\n",
    "\n",
    "plt.show()"
   ]
  },
  {
   "cell_type": "code",
   "execution_count": 18,
   "metadata": {},
   "outputs": [
    {
     "data": {
      "image/png": "[encoded data removed]",
      "text/plain": [
       "<Figure size 432x288 with 1 Axes>"
      ]
     },
     "metadata": {},
     "output_type": "display_data"
    }
   ],
   "source": [
    "plt.hist(temp_no, 20)\n",
    "\n",
    "plt.xlabel('Temperature in °F')\n",
    "plt.ylabel('Frequency')\n",
    "plt.title('Temperature: No Resistance')\n",
    "plt.grid(True)\n",
    "\n",
    "plt.show()"
   ]
  },
  {
   "cell_type": "code",
   "execution_count": 19,
   "metadata": {},
   "outputs": [
    {
     "data": {
      "image/png": "[encoded data removed]",
      "text/plain": [
       "<Figure size 432x288 with 1 Axes>"
      ]
     },
     "metadata": {},
     "output_type": "display_data"
    }
   ],
   "source": [
    "plt.hist(temp_yes, 20,facecolor='orange')\n",
    "\n",
    "plt.xlabel('Temperature in °F')\n",
    "plt.ylabel('Frequency')\n",
    "plt.title('Temperature: Resistance')\n",
    "plt.grid(True)\n",
    "\n",
    "plt.show()"
   ]
  }
 ],
 "metadata": {
  "kernelspec": {
   "display_name": "Python 3",
   "language": "python",
   "name": "python3"
  },
  "language_info": {
   "codemirror_mode": {
    "name": "ipython",
    "version": 3
   },
   "file_extension": ".py",
   "mimetype": "text/x-python",
   "name": "python",
   "nbconvert_exporter": "python",
   "pygments_lexer": "ipython3",
   "version": "3.6.5"
  }
 },
 "nbformat": 4,
 "nbformat_minor": 2
}
