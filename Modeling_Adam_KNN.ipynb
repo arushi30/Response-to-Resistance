{
 "cells": [
  {
   "cell_type": "code",
   "execution_count": 1,
   "metadata": {},
   "outputs": [
    {
     "name": "stderr",
     "output_type": "stream",
     "text": [
      "C:\\Users\\Adam\\Anaconda3\\lib\\site-packages\\IPython\\core\\interactiveshell.py:2785: DtypeWarning: Columns (7) have mixed types. Specify dtype option on import or set low_memory=False.\n",
      "  interactivity=interactivity, compiler=compiler, result=result)\n"
     ]
    },
    {
     "data": {
      "text/html": [
       "<div>\n",
       "<style scoped>\n",
       "    .dataframe tbody tr th:only-of-type {\n",
       "        vertical-align: middle;\n",
       "    }\n",
       "\n",
       "    .dataframe tbody tr th {\n",
       "        vertical-align: top;\n",
       "    }\n",
       "\n",
       "    .dataframe thead th {\n",
       "        text-align: right;\n",
       "    }\n",
       "</style>\n",
       "<table border=\"1\" class=\"dataframe\">\n",
       "  <thead>\n",
       "    <tr style=\"text-align: right;\">\n",
       "      <th></th>\n",
       "      <th>date_time</th>\n",
       "      <th>date_x</th>\n",
       "      <th>time</th>\n",
       "      <th>loc_t ype</th>\n",
       "      <th>zip_code</th>\n",
       "      <th>council_district</th>\n",
       "      <th>apd_sector</th>\n",
       "      <th>apd_district</th>\n",
       "      <th>latitude</th>\n",
       "      <th>longtitude</th>\n",
       "      <th>...</th>\n",
       "      <th>zip78749</th>\n",
       "      <th>zip78750</th>\n",
       "      <th>zip78751</th>\n",
       "      <th>zip78752</th>\n",
       "      <th>zip78753</th>\n",
       "      <th>zip78754</th>\n",
       "      <th>zip78756</th>\n",
       "      <th>zip78757</th>\n",
       "      <th>zip78758</th>\n",
       "      <th>zip78759</th>\n",
       "    </tr>\n",
       "  </thead>\n",
       "  <tbody>\n",
       "    <tr>\n",
       "      <th>0</th>\n",
       "      <td>2014-10-01 20:19:00</td>\n",
       "      <td>10/01/2014</td>\n",
       "      <td>2019.0</td>\n",
       "      <td>RESIDENCE / HOME</td>\n",
       "      <td>78723.0</td>\n",
       "      <td>1.0</td>\n",
       "      <td>ID</td>\n",
       "      <td>1</td>\n",
       "      <td>30.315506</td>\n",
       "      <td>-97.690678</td>\n",
       "      <td>...</td>\n",
       "      <td>0</td>\n",
       "      <td>0</td>\n",
       "      <td>0</td>\n",
       "      <td>0</td>\n",
       "      <td>0</td>\n",
       "      <td>0</td>\n",
       "      <td>0</td>\n",
       "      <td>0</td>\n",
       "      <td>0</td>\n",
       "      <td>0</td>\n",
       "    </tr>\n",
       "    <tr>\n",
       "      <th>1</th>\n",
       "      <td>2014-10-05 16:33:00</td>\n",
       "      <td>10/05/2014</td>\n",
       "      <td>1633.0</td>\n",
       "      <td>RESIDENCE / HOME</td>\n",
       "      <td>78723.0</td>\n",
       "      <td>1.0</td>\n",
       "      <td>ID</td>\n",
       "      <td>1</td>\n",
       "      <td>30.315506</td>\n",
       "      <td>-97.690678</td>\n",
       "      <td>...</td>\n",
       "      <td>0</td>\n",
       "      <td>0</td>\n",
       "      <td>0</td>\n",
       "      <td>0</td>\n",
       "      <td>0</td>\n",
       "      <td>0</td>\n",
       "      <td>0</td>\n",
       "      <td>0</td>\n",
       "      <td>0</td>\n",
       "      <td>0</td>\n",
       "    </tr>\n",
       "    <tr>\n",
       "      <th>2</th>\n",
       "      <td>2012-01-20 22:30:00</td>\n",
       "      <td>01/20/2012</td>\n",
       "      <td>2230.0</td>\n",
       "      <td>PARKING LOTS / GARAGE</td>\n",
       "      <td>78723.0</td>\n",
       "      <td>1.0</td>\n",
       "      <td>ID</td>\n",
       "      <td>1</td>\n",
       "      <td>30.320667</td>\n",
       "      <td>-97.687671</td>\n",
       "      <td>...</td>\n",
       "      <td>0</td>\n",
       "      <td>0</td>\n",
       "      <td>0</td>\n",
       "      <td>0</td>\n",
       "      <td>0</td>\n",
       "      <td>0</td>\n",
       "      <td>0</td>\n",
       "      <td>0</td>\n",
       "      <td>0</td>\n",
       "      <td>0</td>\n",
       "    </tr>\n",
       "    <tr>\n",
       "      <th>3</th>\n",
       "      <td>2011-01-01 20:00:00</td>\n",
       "      <td>01/01/2011</td>\n",
       "      <td>2000.0</td>\n",
       "      <td>RESIDENCE / HOME</td>\n",
       "      <td>78723.0</td>\n",
       "      <td>1.0</td>\n",
       "      <td>ID</td>\n",
       "      <td>1</td>\n",
       "      <td>30.320667</td>\n",
       "      <td>-97.687671</td>\n",
       "      <td>...</td>\n",
       "      <td>0</td>\n",
       "      <td>0</td>\n",
       "      <td>0</td>\n",
       "      <td>0</td>\n",
       "      <td>0</td>\n",
       "      <td>0</td>\n",
       "      <td>0</td>\n",
       "      <td>0</td>\n",
       "      <td>0</td>\n",
       "      <td>0</td>\n",
       "    </tr>\n",
       "    <tr>\n",
       "      <th>4</th>\n",
       "      <td>2012-03-06 05:00:00</td>\n",
       "      <td>03/06/2012</td>\n",
       "      <td>500.0</td>\n",
       "      <td>RESIDENCE / HOME</td>\n",
       "      <td>78723.0</td>\n",
       "      <td>1.0</td>\n",
       "      <td>ID</td>\n",
       "      <td>1</td>\n",
       "      <td>30.320667</td>\n",
       "      <td>-97.687671</td>\n",
       "      <td>...</td>\n",
       "      <td>0</td>\n",
       "      <td>0</td>\n",
       "      <td>0</td>\n",
       "      <td>0</td>\n",
       "      <td>0</td>\n",
       "      <td>0</td>\n",
       "      <td>0</td>\n",
       "      <td>0</td>\n",
       "      <td>0</td>\n",
       "      <td>0</td>\n",
       "    </tr>\n",
       "  </tbody>\n",
       "</table>\n",
       "<p>5 rows × 195 columns</p>\n",
       "</div>"
      ],
      "text/plain": [
       "             date_time      date_x    time              loc_t ype  zip_code  \\\n",
       "0  2014-10-01 20:19:00  10/01/2014  2019.0       RESIDENCE / HOME   78723.0   \n",
       "1  2014-10-05 16:33:00  10/05/2014  1633.0       RESIDENCE / HOME   78723.0   \n",
       "2  2012-01-20 22:30:00  01/20/2012  2230.0  PARKING LOTS / GARAGE   78723.0   \n",
       "3  2011-01-01 20:00:00  01/01/2011  2000.0       RESIDENCE / HOME   78723.0   \n",
       "4  2012-03-06 05:00:00  03/06/2012   500.0       RESIDENCE / HOME   78723.0   \n",
       "\n",
       "   council_district apd_sector apd_district   latitude  longtitude    ...     \\\n",
       "0               1.0         ID            1  30.315506  -97.690678    ...      \n",
       "1               1.0         ID            1  30.315506  -97.690678    ...      \n",
       "2               1.0         ID            1  30.320667  -97.687671    ...      \n",
       "3               1.0         ID            1  30.320667  -97.687671    ...      \n",
       "4               1.0         ID            1  30.320667  -97.687671    ...      \n",
       "\n",
       "  zip78749  zip78750  zip78751  zip78752  zip78753  zip78754  zip78756  \\\n",
       "0        0         0         0         0         0         0         0   \n",
       "1        0         0         0         0         0         0         0   \n",
       "2        0         0         0         0         0         0         0   \n",
       "3        0         0         0         0         0         0         0   \n",
       "4        0         0         0         0         0         0         0   \n",
       "\n",
       "   zip78757  zip78758  zip78759  \n",
       "0         0         0         0  \n",
       "1         0         0         0  \n",
       "2         0         0         0  \n",
       "3         0         0         0  \n",
       "4         0         0         0  \n",
       "\n",
       "[5 rows x 195 columns]"
      ]
     },
     "execution_count": 1,
     "metadata": {},
     "output_type": "execute_result"
    }
   ],
   "source": [
    "import pandas as pd\n",
    "import numpy as np\n",
    "\n",
    "combined = pd.read_csv('Input Data/clean_data.csv')\n",
    "combined.head()"
   ]
  },
  {
   "cell_type": "code",
   "execution_count": 2,
   "metadata": {},
   "outputs": [
    {
     "data": {
      "text/plain": [
       "183"
      ]
     },
     "execution_count": 2,
     "metadata": {},
     "output_type": "execute_result"
    }
   ],
   "source": [
    "dropped_columns = ['date_time', 'date_x', 'time', 'loc_t ype', 'zip_code', 'council_district', 'apd_sector', 'apd_district']\n",
    "dropped_columns += ['latitude', 'longtitude', 'location', 'year']\n",
    "combined = combined.drop(dropped_columns, axis = 1)\n",
    "len(combined.columns)"
   ]
  },
  {
   "cell_type": "code",
   "execution_count": 3,
   "metadata": {},
   "outputs": [],
   "source": [
    "from sklearn.model_selection import train_test_split\n",
    "\n",
    "#drop rows that are not complete\n",
    "combined = combined.dropna(subset= combined.columns)\n",
    "\n",
    "cols_to_use = [\"temp_max\", \"temp_min\", \"prec_avg\", 'new_year', 'mlk_day', 'wash_bday', 'mem_day', 'ind_day', \n",
    "      'labor_day', 'col_day', 'vet_day', 'thanksgiving', 'christmas', 'P0030001','P0030002_pct', 'P0030003_pct', 'P0030004_pct', 'P0030005_pct', 'P0030006_pct', \n",
    "      'P0040003_pct', 'P0130001', 'B19113_001E', 'B17001_001E_pct', 'C18120_003E_pct']\n",
    "\n",
    "Y, X = combined.Target1, combined[cols_to_use]\n",
    "#Y, X = combined.Target1, combined.drop(['Target1', 'Target2'], axis = 1)\n",
    "X_train, X_test, Y_train, Y_test = train_test_split(X, Y, test_size=0.2, random_state = 3, stratify = Y)\n"
   ]
  },
  {
   "cell_type": "code",
   "execution_count": 4,
   "metadata": {},
   "outputs": [
    {
     "name": "stdout",
     "output_type": "stream",
     "text": [
      "The logistic regression accuracy is: 0.9871260629467764\n",
      "The logistic regression AUC is: 0.615703465686215\n"
     ]
    }
   ],
   "source": [
    "from sklearn.linear_model import LogisticRegression\n",
    "from sklearn.naive_bayes import BernoulliNB\n",
    "from sklearn import metrics\n",
    "from sklearn.metrics import roc_curve, auc\n",
    "\n",
    "# Logistic Regression\n",
    "clf = LogisticRegression().fit(X_train, Y_train)\n",
    "\n",
    "fpr, tpr, threshold = metrics.roc_curve(Y_test, clf.predict_proba(X_test)[:,1])\n",
    "logAUC = metrics.roc_auc_score(Y_test, clf.predict_proba(X_test)[:,1])\n",
    "\n",
    "print('The logistic regression accuracy is: ' + str(clf.score(X_test, Y_test)))\n",
    "print('The logistic regression AUC is: ' + str(auc(fpr, tpr)))"
   ]
  },
  {
   "cell_type": "code",
   "execution_count": 5,
   "metadata": {},
   "outputs": [
    {
     "name": "stdout",
     "output_type": "stream",
     "text": [
      "0.0    0.987127\n",
      "1.0    0.012873\n",
      "Name: Target1, dtype: float64\n",
      "0.0    0.987126\n",
      "1.0    0.012874\n",
      "Name: Target1, dtype: float64\n"
     ]
    }
   ],
   "source": [
    "print(Y_train.value_counts()/len(Y_train))\n",
    "print(Y_test.value_counts()/len(Y_test))"
   ]
  },
  {
   "cell_type": "code",
   "execution_count": 6,
   "metadata": {},
   "outputs": [
    {
     "data": {
      "text/plain": [
       "5"
      ]
     },
     "execution_count": 6,
     "metadata": {},
     "output_type": "execute_result"
    }
   ],
   "source": [
    "from sklearn.model_selection import StratifiedKFold\n",
    "\n",
    "# Set up stratified k fold split\n",
    "skf = StratifiedKFold(n_splits=5, random_state=400)\n",
    "skf.get_n_splits(X_train, Y_train)"
   ]
  },
  {
   "cell_type": "code",
   "execution_count": 7,
   "metadata": {},
   "outputs": [
    {
     "name": "stdout",
     "output_type": "stream",
     "text": [
      "[0.6177891044444068, 0.6046811648508958, 0.6067359443673445, 0.6193984548834625, 0.6170971558673367]\n"
     ]
    }
   ],
   "source": [
    "#obtain AUC for each of the k folds\n",
    "auc_lr = []\n",
    "for train_index, test_index in skf.split(X_train, Y_train):\n",
    "    \n",
    "    X_train_fold, X_test_fold = X_train.iloc[train_index], X_train.iloc[test_index]\n",
    "    Y_train_fold, Y_test_fold = Y_train.iloc[train_index], Y_train.iloc[test_index]\n",
    "    \n",
    "    model = LogisticRegression(C=1e30).fit(X_train_fold, Y_train_fold)\n",
    "    \n",
    "    Y_pred_fold = model.predict_proba(X_test_fold)[:,1]\n",
    "    fpr, tpr, thresholds = roc_curve(Y_test_fold, Y_pred_fold)\n",
    "    auc_lr.append(auc(fpr, tpr))\n",
    "    \n",
    "print(auc_lr)"
   ]
  },
  {
   "cell_type": "code",
   "execution_count": 8,
   "metadata": {},
   "outputs": [],
   "source": [
    "#from sklearn.svm import SVC\n",
    "#clfsvm = SVC(gamma='auto').fit(X_train, Y_train)\n",
    "\n",
    "#Y_pred2 = clfsvm.predict_proba(X_test)[:,1]\n",
    "#fpr2, tpr2, thresholds2 = roc_curve(Y_test, Y_pred2)\n",
    "#print(auc(fpr2, tpr2))\n",
    "\n",
    "\n"
   ]
  },
  {
   "cell_type": "code",
   "execution_count": 12,
   "metadata": {},
   "outputs": [
    {
     "name": "stdout",
     "output_type": "stream",
     "text": [
      "{1: [], 3: [], 5: [], 7: [], 10: []}\n",
      "{1: [0.5213925920901489, 0.5229729780791457, 0.5243612643322072, 0.5175177032747159, 0.5214698305541625], 3: [0.5503502974285832, 0.5484527536635518, 0.559038976269573, 0.5412091245161387, 0.5539520285603073], 5: [0.5645994062625798, 0.5687035385918955, 0.5778778716542593, 0.5625327746686579, 0.5699332323427759], 7: [0.577148846460846, 0.5812508807058218, 0.5901488156006593, 0.5755836851685374, 0.5798588248279979], 10: [0.5947110536679202, 0.5965630803788006, 0.6011557474258002, 0.5865388989697395, 0.5964274392221002]}\n"
     ]
    }
   ],
   "source": [
    "from sklearn.neighbors import KNeighborsClassifier\n",
    "\n",
    "#obtain AUC for each of the k folds and loop for various options of neighbors\n",
    "auc_knn = {}\n",
    "neighbors = [1,3,5,7,10]\n",
    "\n",
    "for i in neighbors:\n",
    "    auc_knn[i]=[]\n",
    "\n",
    "print(auc_knn)\n",
    "\n",
    "for train_index, test_index in skf.split(X_train, Y_train):\n",
    "    \n",
    "    X_train_fold_knn, X_test_fold_knn = X_train.iloc[train_index], X_train.iloc[test_index]\n",
    "    Y_train_fold_knn, Y_test_fold_knn = Y_train.iloc[train_index], Y_train.iloc[test_index]\n",
    "    \n",
    "    for i in neighbors:\n",
    "        clfKNN = KNeighborsClassifier(n_neighbors=i).fit(X_train_fold_knn, Y_train_fold_knn)\n",
    "    \n",
    "        Y_pred_fold_knn = clfKNN.predict_proba(X_test_fold_knn)[:,1]\n",
    "        fpr3, tpr3, thresholds3 = roc_curve(Y_test_fold_knn, Y_pred_fold_knn)\n",
    "        auc_knn[i].append(auc(fpr3, tpr3))\n",
    "    \n",
    "print(auc_knn)"
   ]
  },
  {
   "cell_type": "code",
   "execution_count": null,
   "metadata": {},
   "outputs": [],
   "source": []
  }
 ],
 "metadata": {
  "kernelspec": {
   "display_name": "Python 3",
   "language": "python",
   "name": "python3"
  },
  "language_info": {
   "codemirror_mode": {
    "name": "ipython",
    "version": 3
   },
   "file_extension": ".py",
   "mimetype": "text/x-python",
   "name": "python",
   "nbconvert_exporter": "python",
   "pygments_lexer": "ipython3",
   "version": "3.6.5"
  }
 },
 "nbformat": 4,
 "nbformat_minor": 2
}
